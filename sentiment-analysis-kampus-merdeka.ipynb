{
 "cells": [
  {
   "cell_type": "markdown",
   "metadata": {},
   "source": [
    "# Sentiment Analysis Kampus Merdeka\n",
    "[Sumber Data : https://github.com/farahdhaifa/kampus-merdeka-crossvalidation](https://github.com/farahdhaifa/kampus-merdeka-crossvalidation)\n",
    "\n",
    "**Instalasi Package**\n",
    "\n",
    "Melalui terminal / bash, jalankan perintah berikut:\n",
    "\n",
    "``` bash\n",
    "pip3 install -r requirements.txt\n",
    "```"
   ]
  },
  {
   "cell_type": "markdown",
   "metadata": {},
   "source": [
    "# Import Section"
   ]
  },
  {
   "cell_type": "code",
   "execution_count": 1,
   "metadata": {},
   "outputs": [
    {
     "name": "stderr",
     "output_type": "stream",
     "text": [
      "[nltk_data] Downloading package stopwords to\n",
      "[nltk_data]     /home/bestlabmct/nltk_data...\n",
      "[nltk_data]   Package stopwords is already up-to-date!\n",
      "[nltk_data] Downloading package punkt to /home/bestlabmct/nltk_data...\n",
      "[nltk_data]   Package punkt is already up-to-date!\n"
     ]
    }
   ],
   "source": [
    "import numpy as np\n",
    "from numpy import mean\n",
    "import pandas as pd\n",
    "import matplotlib.pyplot as plt\n",
    "import re  \n",
    "import seaborn as sns\n",
    "import nltk\n",
    "nltk.download('stopwords')\n",
    "nltk.download('punkt')\n",
    "from nltk.corpus import stopwords\n",
    "from nltk.tokenize import word_tokenize\n",
    "import string\n",
    "from Sastrawi.Stemmer.StemmerFactory import StemmerFactory\n",
    "\n",
    "import sklearn\n",
    "from sklearn.feature_extraction.text import TfidfVectorizer, CountVectorizer, TfidfTransformer\n",
    "from sklearn.model_selection import KFold, cross_val_score, train_test_split\n",
    "from sklearn.naive_bayes import MultinomialNB\n",
    "from sklearn.metrics import accuracy_score, confusion_matrix, classification_report, f1_score, precision_score, recall_score\n",
    "\n",
    "import pickle"
   ]
  },
  {
   "cell_type": "code",
   "execution_count": 2,
   "metadata": {},
   "outputs": [],
   "source": [
    "MYRANDOMSTATE = 42"
   ]
  },
  {
   "cell_type": "markdown",
   "metadata": {},
   "source": [
    "# 1. Tahap Preparation\n",
    "##### 1.1 Read Dataset"
   ]
  },
  {
   "cell_type": "code",
   "execution_count": 3,
   "metadata": {},
   "outputs": [
    {
     "data": {
      "text/html": [
       "<div>\n",
       "<style scoped>\n",
       "    .dataframe tbody tr th:only-of-type {\n",
       "        vertical-align: middle;\n",
       "    }\n",
       "\n",
       "    .dataframe tbody tr th {\n",
       "        vertical-align: top;\n",
       "    }\n",
       "\n",
       "    .dataframe thead th {\n",
       "        text-align: right;\n",
       "    }\n",
       "</style>\n",
       "<table border=\"1\" class=\"dataframe\">\n",
       "  <thead>\n",
       "    <tr style=\"text-align: right;\">\n",
       "      <th></th>\n",
       "      <th>SENTIMEN</th>\n",
       "      <th>0_KOMENTAR_ASLI</th>\n",
       "    </tr>\n",
       "  </thead>\n",
       "  <tbody>\n",
       "    <tr>\n",
       "      <th>0</th>\n",
       "      <td>1</td>\n",
       "      <td>Bagus. Salah satu pendekatan antropologi diken...</td>\n",
       "    </tr>\n",
       "    <tr>\n",
       "      <th>1</th>\n",
       "      <td>1</td>\n",
       "      <td>Terimakasih, saya dapat informasi yg sangat be...</td>\n",
       "    </tr>\n",
       "    <tr>\n",
       "      <th>2</th>\n",
       "      <td>1</td>\n",
       "      <td>Terima kasih mahasiswa perwakilan dari Indones...</td>\n",
       "    </tr>\n",
       "    <tr>\n",
       "      <th>3</th>\n",
       "      <td>1</td>\n",
       "      <td>bagus mas menteri, saya bangga</td>\n",
       "    </tr>\n",
       "    <tr>\n",
       "      <th>4</th>\n",
       "      <td>1</td>\n",
       "      <td>ide sangat cemerlang n patut didukung oleh sem...</td>\n",
       "    </tr>\n",
       "  </tbody>\n",
       "</table>\n",
       "</div>"
      ],
      "text/plain": [
       "   SENTIMEN                                    0_KOMENTAR_ASLI\n",
       "0         1  Bagus. Salah satu pendekatan antropologi diken...\n",
       "1         1  Terimakasih, saya dapat informasi yg sangat be...\n",
       "2         1  Terima kasih mahasiswa perwakilan dari Indones...\n",
       "3         1                     bagus mas menteri, saya bangga\n",
       "4         1  ide sangat cemerlang n patut didukung oleh sem..."
      ]
     },
     "execution_count": 3,
     "metadata": {},
     "output_type": "execute_result"
    }
   ],
   "source": [
    "comm = pd.read_csv('data_komentar_dl900.csv')\n",
    "comm = comm.iloc[:,[1,0]]\n",
    "comm.rename(columns={'KOMENTAR' : '0_KOMENTAR_ASLI'}, inplace=True)\n",
    "comm.head()"
   ]
  },
  {
   "cell_type": "code",
   "execution_count": 4,
   "metadata": {},
   "outputs": [
    {
     "data": {
      "text/plain": [
       "1    500\n",
       "0    500\n",
       "Name: SENTIMEN, dtype: int64"
      ]
     },
     "execution_count": 4,
     "metadata": {},
     "output_type": "execute_result"
    }
   ],
   "source": [
    "comm['SENTIMEN'].value_counts()"
   ]
  },
  {
   "cell_type": "markdown",
   "metadata": {},
   "source": [
    "##### 1.2 Cleaning Dataset"
   ]
  },
  {
   "cell_type": "code",
   "execution_count": 5,
   "metadata": {},
   "outputs": [
    {
     "data": {
      "text/html": [
       "<div>\n",
       "<style scoped>\n",
       "    .dataframe tbody tr th:only-of-type {\n",
       "        vertical-align: middle;\n",
       "    }\n",
       "\n",
       "    .dataframe tbody tr th {\n",
       "        vertical-align: top;\n",
       "    }\n",
       "\n",
       "    .dataframe thead th {\n",
       "        text-align: right;\n",
       "    }\n",
       "</style>\n",
       "<table border=\"1\" class=\"dataframe\">\n",
       "  <thead>\n",
       "    <tr style=\"text-align: right;\">\n",
       "      <th></th>\n",
       "      <th>SENTIMEN</th>\n",
       "      <th>0_KOMENTAR_ASLI</th>\n",
       "      <th>1_CLEANED</th>\n",
       "    </tr>\n",
       "  </thead>\n",
       "  <tbody>\n",
       "    <tr>\n",
       "      <th>0</th>\n",
       "      <td>1</td>\n",
       "      <td>Bagus. Salah satu pendekatan antropologi diken...</td>\n",
       "      <td>bagus salah satu pendekatan antropologi dikena...</td>\n",
       "    </tr>\n",
       "    <tr>\n",
       "      <th>1</th>\n",
       "      <td>1</td>\n",
       "      <td>Terimakasih, saya dapat informasi yg sangat be...</td>\n",
       "      <td>terimakasih saya dapat informasi yg sangat ber...</td>\n",
       "    </tr>\n",
       "    <tr>\n",
       "      <th>2</th>\n",
       "      <td>1</td>\n",
       "      <td>Terima kasih mahasiswa perwakilan dari Indones...</td>\n",
       "      <td>terima kasih mahasiswa perwakilan dari indones...</td>\n",
       "    </tr>\n",
       "    <tr>\n",
       "      <th>3</th>\n",
       "      <td>1</td>\n",
       "      <td>bagus mas menteri, saya bangga</td>\n",
       "      <td>bagus mas menteri saya bangga</td>\n",
       "    </tr>\n",
       "    <tr>\n",
       "      <th>4</th>\n",
       "      <td>1</td>\n",
       "      <td>ide sangat cemerlang n patut didukung oleh sem...</td>\n",
       "      <td>ide sangat cemerlang n patut didukung oleh sem...</td>\n",
       "    </tr>\n",
       "  </tbody>\n",
       "</table>\n",
       "</div>"
      ],
      "text/plain": [
       "   SENTIMEN                                    0_KOMENTAR_ASLI  \\\n",
       "0         1  Bagus. Salah satu pendekatan antropologi diken...   \n",
       "1         1  Terimakasih, saya dapat informasi yg sangat be...   \n",
       "2         1  Terima kasih mahasiswa perwakilan dari Indones...   \n",
       "3         1                     bagus mas menteri, saya bangga   \n",
       "4         1  ide sangat cemerlang n patut didukung oleh sem...   \n",
       "\n",
       "                                           1_CLEANED  \n",
       "0  bagus salah satu pendekatan antropologi dikena...  \n",
       "1  terimakasih saya dapat informasi yg sangat ber...  \n",
       "2  terima kasih mahasiswa perwakilan dari indones...  \n",
       "3                      bagus mas menteri saya bangga  \n",
       "4  ide sangat cemerlang n patut didukung oleh sem...  "
      ]
     },
     "execution_count": 5,
     "metadata": {},
     "output_type": "execute_result"
    }
   ],
   "source": [
    "def textclean(text):\n",
    "    text = text.lower()\n",
    "    text = re.sub(r'@[A-Za-z0-9]+', '', text) #remove @mentions\n",
    "    text = re.sub(r'#', '', text) #remove # symbol\n",
    "    text = re.sub(r'RT[\\s]+', '', text) #remove RT\n",
    "    text = re.sub(r'https?:\\/\\/\\S+', '', text) #remove hyperlink\n",
    "    text = re.sub(r'[^a-zA-Z0-9\\s]', '', text) #remove punctuation\n",
    "    text = re.sub(r'\\d+', '', text) #remove number\n",
    "    text = text.strip() #remove whitespace leading & trailing\n",
    "    return text\n",
    "\n",
    "comm['1_CLEANED'] = comm['0_KOMENTAR_ASLI'].apply(textclean)\n",
    "comm.head()"
   ]
  },
  {
   "cell_type": "markdown",
   "metadata": {},
   "source": [
    "##### 1.3 Split Dataset Menjadi Token"
   ]
  },
  {
   "cell_type": "code",
   "execution_count": 6,
   "metadata": {},
   "outputs": [
    {
     "data": {
      "text/html": [
       "<div>\n",
       "<style scoped>\n",
       "    .dataframe tbody tr th:only-of-type {\n",
       "        vertical-align: middle;\n",
       "    }\n",
       "\n",
       "    .dataframe tbody tr th {\n",
       "        vertical-align: top;\n",
       "    }\n",
       "\n",
       "    .dataframe thead th {\n",
       "        text-align: right;\n",
       "    }\n",
       "</style>\n",
       "<table border=\"1\" class=\"dataframe\">\n",
       "  <thead>\n",
       "    <tr style=\"text-align: right;\">\n",
       "      <th></th>\n",
       "      <th>SENTIMEN</th>\n",
       "      <th>0_KOMENTAR_ASLI</th>\n",
       "      <th>1_CLEANED</th>\n",
       "      <th>2_TOKENIZED</th>\n",
       "    </tr>\n",
       "  </thead>\n",
       "  <tbody>\n",
       "    <tr>\n",
       "      <th>0</th>\n",
       "      <td>1</td>\n",
       "      <td>Bagus. Salah satu pendekatan antropologi diken...</td>\n",
       "      <td>bagus salah satu pendekatan antropologi dikena...</td>\n",
       "      <td>[bagus, salah, satu, pendekatan, antropologi, ...</td>\n",
       "    </tr>\n",
       "    <tr>\n",
       "      <th>1</th>\n",
       "      <td>1</td>\n",
       "      <td>Terimakasih, saya dapat informasi yg sangat be...</td>\n",
       "      <td>terimakasih saya dapat informasi yg sangat ber...</td>\n",
       "      <td>[terimakasih, saya, dapat, informasi, yg, sang...</td>\n",
       "    </tr>\n",
       "    <tr>\n",
       "      <th>2</th>\n",
       "      <td>1</td>\n",
       "      <td>Terima kasih mahasiswa perwakilan dari Indones...</td>\n",
       "      <td>terima kasih mahasiswa perwakilan dari indones...</td>\n",
       "      <td>[terima, kasih, mahasiswa, perwakilan, dari, i...</td>\n",
       "    </tr>\n",
       "    <tr>\n",
       "      <th>3</th>\n",
       "      <td>1</td>\n",
       "      <td>bagus mas menteri, saya bangga</td>\n",
       "      <td>bagus mas menteri saya bangga</td>\n",
       "      <td>[bagus, mas, menteri, saya, bangga]</td>\n",
       "    </tr>\n",
       "    <tr>\n",
       "      <th>4</th>\n",
       "      <td>1</td>\n",
       "      <td>ide sangat cemerlang n patut didukung oleh sem...</td>\n",
       "      <td>ide sangat cemerlang n patut didukung oleh sem...</td>\n",
       "      <td>[ide, sangat, cemerlang, n, patut, didukung, o...</td>\n",
       "    </tr>\n",
       "  </tbody>\n",
       "</table>\n",
       "</div>"
      ],
      "text/plain": [
       "   SENTIMEN                                    0_KOMENTAR_ASLI  \\\n",
       "0         1  Bagus. Salah satu pendekatan antropologi diken...   \n",
       "1         1  Terimakasih, saya dapat informasi yg sangat be...   \n",
       "2         1  Terima kasih mahasiswa perwakilan dari Indones...   \n",
       "3         1                     bagus mas menteri, saya bangga   \n",
       "4         1  ide sangat cemerlang n patut didukung oleh sem...   \n",
       "\n",
       "                                           1_CLEANED  \\\n",
       "0  bagus salah satu pendekatan antropologi dikena...   \n",
       "1  terimakasih saya dapat informasi yg sangat ber...   \n",
       "2  terima kasih mahasiswa perwakilan dari indones...   \n",
       "3                      bagus mas menteri saya bangga   \n",
       "4  ide sangat cemerlang n patut didukung oleh sem...   \n",
       "\n",
       "                                         2_TOKENIZED  \n",
       "0  [bagus, salah, satu, pendekatan, antropologi, ...  \n",
       "1  [terimakasih, saya, dapat, informasi, yg, sang...  \n",
       "2  [terima, kasih, mahasiswa, perwakilan, dari, i...  \n",
       "3                [bagus, mas, menteri, saya, bangga]  \n",
       "4  [ide, sangat, cemerlang, n, patut, didukung, o...  "
      ]
     },
     "execution_count": 6,
     "metadata": {},
     "output_type": "execute_result"
    }
   ],
   "source": [
    "comm['2_TOKENIZED'] = comm['1_CLEANED'].apply(word_tokenize)\n",
    "comm.head()"
   ]
  },
  {
   "cell_type": "markdown",
   "metadata": {},
   "source": [
    "##### 1.4 Formalisasi\n",
    "Menghapus kata-kata tidak formal dan menjadikan kata formal"
   ]
  },
  {
   "cell_type": "code",
   "execution_count": 7,
   "metadata": {},
   "outputs": [
    {
     "data": {
      "text/html": [
       "<div>\n",
       "<style scoped>\n",
       "    .dataframe tbody tr th:only-of-type {\n",
       "        vertical-align: middle;\n",
       "    }\n",
       "\n",
       "    .dataframe tbody tr th {\n",
       "        vertical-align: top;\n",
       "    }\n",
       "\n",
       "    .dataframe thead th {\n",
       "        text-align: right;\n",
       "    }\n",
       "</style>\n",
       "<table border=\"1\" class=\"dataframe\">\n",
       "  <thead>\n",
       "    <tr style=\"text-align: right;\">\n",
       "      <th></th>\n",
       "      <th>SENTIMEN</th>\n",
       "      <th>0_KOMENTAR_ASLI</th>\n",
       "      <th>1_CLEANED</th>\n",
       "      <th>2_TOKENIZED</th>\n",
       "      <th>3_FORMALIZED</th>\n",
       "    </tr>\n",
       "  </thead>\n",
       "  <tbody>\n",
       "    <tr>\n",
       "      <th>0</th>\n",
       "      <td>1</td>\n",
       "      <td>Bagus. Salah satu pendekatan antropologi diken...</td>\n",
       "      <td>bagus salah satu pendekatan antropologi dikena...</td>\n",
       "      <td>[bagus, salah, satu, pendekatan, antropologi, ...</td>\n",
       "      <td>[bagus, salah, satu, pendekatan, antropologi, ...</td>\n",
       "    </tr>\n",
       "    <tr>\n",
       "      <th>1</th>\n",
       "      <td>1</td>\n",
       "      <td>Terimakasih, saya dapat informasi yg sangat be...</td>\n",
       "      <td>terimakasih saya dapat informasi yg sangat ber...</td>\n",
       "      <td>[terimakasih, saya, dapat, informasi, yg, sang...</td>\n",
       "      <td>[terimakasih, saya, dapat, informasi, yang, sa...</td>\n",
       "    </tr>\n",
       "    <tr>\n",
       "      <th>2</th>\n",
       "      <td>1</td>\n",
       "      <td>Terima kasih mahasiswa perwakilan dari Indones...</td>\n",
       "      <td>terima kasih mahasiswa perwakilan dari indones...</td>\n",
       "      <td>[terima, kasih, mahasiswa, perwakilan, dari, i...</td>\n",
       "      <td>[terima, kasih, mahasiswa, perwakilan, dari, i...</td>\n",
       "    </tr>\n",
       "    <tr>\n",
       "      <th>3</th>\n",
       "      <td>1</td>\n",
       "      <td>bagus mas menteri, saya bangga</td>\n",
       "      <td>bagus mas menteri saya bangga</td>\n",
       "      <td>[bagus, mas, menteri, saya, bangga]</td>\n",
       "      <td>[bagus, mas, menteri, saya, bangga]</td>\n",
       "    </tr>\n",
       "    <tr>\n",
       "      <th>4</th>\n",
       "      <td>1</td>\n",
       "      <td>ide sangat cemerlang n patut didukung oleh sem...</td>\n",
       "      <td>ide sangat cemerlang n patut didukung oleh sem...</td>\n",
       "      <td>[ide, sangat, cemerlang, n, patut, didukung, o...</td>\n",
       "      <td>[ide, sangat, cemerlang, dan, patut, didukung,...</td>\n",
       "    </tr>\n",
       "  </tbody>\n",
       "</table>\n",
       "</div>"
      ],
      "text/plain": [
       "   SENTIMEN                                    0_KOMENTAR_ASLI  \\\n",
       "0         1  Bagus. Salah satu pendekatan antropologi diken...   \n",
       "1         1  Terimakasih, saya dapat informasi yg sangat be...   \n",
       "2         1  Terima kasih mahasiswa perwakilan dari Indones...   \n",
       "3         1                     bagus mas menteri, saya bangga   \n",
       "4         1  ide sangat cemerlang n patut didukung oleh sem...   \n",
       "\n",
       "                                           1_CLEANED  \\\n",
       "0  bagus salah satu pendekatan antropologi dikena...   \n",
       "1  terimakasih saya dapat informasi yg sangat ber...   \n",
       "2  terima kasih mahasiswa perwakilan dari indones...   \n",
       "3                      bagus mas menteri saya bangga   \n",
       "4  ide sangat cemerlang n patut didukung oleh sem...   \n",
       "\n",
       "                                         2_TOKENIZED  \\\n",
       "0  [bagus, salah, satu, pendekatan, antropologi, ...   \n",
       "1  [terimakasih, saya, dapat, informasi, yg, sang...   \n",
       "2  [terima, kasih, mahasiswa, perwakilan, dari, i...   \n",
       "3                [bagus, mas, menteri, saya, bangga]   \n",
       "4  [ide, sangat, cemerlang, n, patut, didukung, o...   \n",
       "\n",
       "                                        3_FORMALIZED  \n",
       "0  [bagus, salah, satu, pendekatan, antropologi, ...  \n",
       "1  [terimakasih, saya, dapat, informasi, yang, sa...  \n",
       "2  [terima, kasih, mahasiswa, perwakilan, dari, i...  \n",
       "3                [bagus, mas, menteri, saya, bangga]  \n",
       "4  [ide, sangat, cemerlang, dan, patut, didukung,...  "
      ]
     },
     "execution_count": 7,
     "metadata": {},
     "output_type": "execute_result"
    }
   ],
   "source": [
    "kamus_perb_kata = pd.read_excel('kamus_perbaikan_kata.xlsx')\n",
    "kamus_perb_kata = kamus_perb_kata.set_index('TIDAK BAKU')['BAKU'].to_dict()\n",
    "comm['3_FORMALIZED'] = comm['2_TOKENIZED'].apply(lambda x: [kamus_perb_kata.get(i, i) for i in x])\n",
    "comm.head()"
   ]
  },
  {
   "cell_type": "markdown",
   "metadata": {},
   "source": [
    "##### 1.5 Stopword\n",
    "Menghapus kata-kata yang tidak penting"
   ]
  },
  {
   "cell_type": "code",
   "execution_count": 8,
   "metadata": {},
   "outputs": [
    {
     "data": {
      "text/html": [
       "<div>\n",
       "<style scoped>\n",
       "    .dataframe tbody tr th:only-of-type {\n",
       "        vertical-align: middle;\n",
       "    }\n",
       "\n",
       "    .dataframe tbody tr th {\n",
       "        vertical-align: top;\n",
       "    }\n",
       "\n",
       "    .dataframe thead th {\n",
       "        text-align: right;\n",
       "    }\n",
       "</style>\n",
       "<table border=\"1\" class=\"dataframe\">\n",
       "  <thead>\n",
       "    <tr style=\"text-align: right;\">\n",
       "      <th></th>\n",
       "      <th>SENTIMEN</th>\n",
       "      <th>0_KOMENTAR_ASLI</th>\n",
       "      <th>1_CLEANED</th>\n",
       "      <th>2_TOKENIZED</th>\n",
       "      <th>3_FORMALIZED</th>\n",
       "      <th>4_STOPWORDS_REMOVED</th>\n",
       "    </tr>\n",
       "  </thead>\n",
       "  <tbody>\n",
       "    <tr>\n",
       "      <th>0</th>\n",
       "      <td>1</td>\n",
       "      <td>Bagus. Salah satu pendekatan antropologi diken...</td>\n",
       "      <td>bagus salah satu pendekatan antropologi dikena...</td>\n",
       "      <td>[bagus, salah, satu, pendekatan, antropologi, ...</td>\n",
       "      <td>[bagus, salah, satu, pendekatan, antropologi, ...</td>\n",
       "      <td>[bagus, salah, satu, pendekatan, antropologi, ...</td>\n",
       "    </tr>\n",
       "    <tr>\n",
       "      <th>1</th>\n",
       "      <td>1</td>\n",
       "      <td>Terimakasih, saya dapat informasi yg sangat be...</td>\n",
       "      <td>terimakasih saya dapat informasi yg sangat ber...</td>\n",
       "      <td>[terimakasih, saya, dapat, informasi, yg, sang...</td>\n",
       "      <td>[terimakasih, saya, dapat, informasi, yang, sa...</td>\n",
       "      <td>[terimakasih, informasi, sangat, berguna, memo...</td>\n",
       "    </tr>\n",
       "    <tr>\n",
       "      <th>2</th>\n",
       "      <td>1</td>\n",
       "      <td>Terima kasih mahasiswa perwakilan dari Indones...</td>\n",
       "      <td>terima kasih mahasiswa perwakilan dari indones...</td>\n",
       "      <td>[terima, kasih, mahasiswa, perwakilan, dari, i...</td>\n",
       "      <td>[terima, kasih, mahasiswa, perwakilan, dari, i...</td>\n",
       "      <td>[terima, kasih, mahasiswa, perwakilan, indones...</td>\n",
       "    </tr>\n",
       "    <tr>\n",
       "      <th>3</th>\n",
       "      <td>1</td>\n",
       "      <td>bagus mas menteri, saya bangga</td>\n",
       "      <td>bagus mas menteri saya bangga</td>\n",
       "      <td>[bagus, mas, menteri, saya, bangga]</td>\n",
       "      <td>[bagus, mas, menteri, saya, bangga]</td>\n",
       "      <td>[bagus, menteri, bangga]</td>\n",
       "    </tr>\n",
       "    <tr>\n",
       "      <th>4</th>\n",
       "      <td>1</td>\n",
       "      <td>ide sangat cemerlang n patut didukung oleh sem...</td>\n",
       "      <td>ide sangat cemerlang n patut didukung oleh sem...</td>\n",
       "      <td>[ide, sangat, cemerlang, n, patut, didukung, o...</td>\n",
       "      <td>[ide, sangat, cemerlang, dan, patut, didukung,...</td>\n",
       "      <td>[ide, sangat, cemerlang, patut, didukung, oleh...</td>\n",
       "    </tr>\n",
       "  </tbody>\n",
       "</table>\n",
       "</div>"
      ],
      "text/plain": [
       "   SENTIMEN                                    0_KOMENTAR_ASLI  \\\n",
       "0         1  Bagus. Salah satu pendekatan antropologi diken...   \n",
       "1         1  Terimakasih, saya dapat informasi yg sangat be...   \n",
       "2         1  Terima kasih mahasiswa perwakilan dari Indones...   \n",
       "3         1                     bagus mas menteri, saya bangga   \n",
       "4         1  ide sangat cemerlang n patut didukung oleh sem...   \n",
       "\n",
       "                                           1_CLEANED  \\\n",
       "0  bagus salah satu pendekatan antropologi dikena...   \n",
       "1  terimakasih saya dapat informasi yg sangat ber...   \n",
       "2  terima kasih mahasiswa perwakilan dari indones...   \n",
       "3                      bagus mas menteri saya bangga   \n",
       "4  ide sangat cemerlang n patut didukung oleh sem...   \n",
       "\n",
       "                                         2_TOKENIZED  \\\n",
       "0  [bagus, salah, satu, pendekatan, antropologi, ...   \n",
       "1  [terimakasih, saya, dapat, informasi, yg, sang...   \n",
       "2  [terima, kasih, mahasiswa, perwakilan, dari, i...   \n",
       "3                [bagus, mas, menteri, saya, bangga]   \n",
       "4  [ide, sangat, cemerlang, n, patut, didukung, o...   \n",
       "\n",
       "                                        3_FORMALIZED  \\\n",
       "0  [bagus, salah, satu, pendekatan, antropologi, ...   \n",
       "1  [terimakasih, saya, dapat, informasi, yang, sa...   \n",
       "2  [terima, kasih, mahasiswa, perwakilan, dari, i...   \n",
       "3                [bagus, mas, menteri, saya, bangga]   \n",
       "4  [ide, sangat, cemerlang, dan, patut, didukung,...   \n",
       "\n",
       "                                 4_STOPWORDS_REMOVED  \n",
       "0  [bagus, salah, satu, pendekatan, antropologi, ...  \n",
       "1  [terimakasih, informasi, sangat, berguna, memo...  \n",
       "2  [terima, kasih, mahasiswa, perwakilan, indones...  \n",
       "3                           [bagus, menteri, bangga]  \n",
       "4  [ide, sangat, cemerlang, patut, didukung, oleh...  "
      ]
     },
     "execution_count": 8,
     "metadata": {},
     "output_type": "execute_result"
    }
   ],
   "source": [
    "stopwords_list = {\"adalah\",\"akan\",\"akhir\",\"aku\",\"saya\",\"antara\",\"antaranya\",\"apabila\",\"atau\",\"bahwa\",\"bahwasannya\",\"berikut\",\"berkata\",\"berupa\",\"dan\",\"dalam\",\"dapat\",\"dari\",\"demikian\",\"dengan\",\"di\",\"dia\",\"beliau\",\"mas\",\"pak\",\"diri\",\"dirinya\",\"guna\",\"hal\",\"hingga\",\"ia\",\"ialah\",\"ibarat\",\"ibaratnya\",\"ibu\",\"ingin\",\"inginkan\",\"ini\",\"itu\",\"jadi\",\"kami\",\"kalian\",\"kamu\",\"kan\",\"karena\",\"kini\",\"lalu\",\"kita\",\"maka\",\"mereka\",\"merupakan\",\"misal\",\"misalkan\",\"misalnya\",\"pertama\",\"orang\",\"pada\",\"nya\",\"saat\",\"sendiri\",\"sini\",\"yaitu\",\"yang\",\"kalau\",\"jika\",\"untuk\",\"secara\",\"sedangkan\",\"luar\",\"alangkah\",\"wkkk\",\n",
    "            \"wkwkw\",\"wkwkwkw\",\"wk\",\"wkkw\"}\n",
    "stopwords = set(stopwords_list)\n",
    "\n",
    "comm['4_STOPWORDS_REMOVED'] = comm['3_FORMALIZED'].apply(lambda x: [item for item in x if item not in stopwords])\n",
    "comm.head()"
   ]
  },
  {
   "cell_type": "markdown",
   "metadata": {},
   "source": [
    "##### 1.6 Stemming\n",
    "Stemming adalah proses mengubah kata-kata yang memiliki arti sama menjadi kata dasar. Stemming ini menggunakan Sastrawi"
   ]
  },
  {
   "cell_type": "code",
   "execution_count": 9,
   "metadata": {},
   "outputs": [
    {
     "name": "stdout",
     "output_type": "stream",
     "text": [
      "990    [magang, lama, buat, stres, juga, usaha, mana,...\n",
      "991        [pesimis, mental, birokrasi, sekarang, wujud]\n",
      "992    [cuma, nadiem, saja, revolusioner, tapi, bawah...\n",
      "993      [harus, bagaimana, tempat, magang, juga, susah]\n",
      "994    [kuliah, sambil, kerja, bagaimana, tinggal, do...\n",
      "995    [negara, mau, harus, didik, tegak, wilayah, lu...\n",
      "996                 [sayang, sekali, belum, ada, perata]\n",
      "997    [kampus, banyak, lapang, kerja, sedikit, meman...\n",
      "998        [pesimis, mental, birokrasi, sekarang, wujud]\n",
      "999    [riset, tidak, bisa, asal, harus, kualitas, ba...\n",
      "Name: 5_STEMMED, dtype: object\n"
     ]
    }
   ],
   "source": [
    "factory = StemmerFactory()\n",
    "stemmer = factory.create_stemmer()\n",
    "\n",
    "comm['5_STEMMED'] = comm['4_STOPWORDS_REMOVED'].apply(lambda x: [stemmer.stem(item) for item in x])\n",
    "print(comm['5_STEMMED'].tail(10))\n",
    "\n",
    "# SAVE TO XLS\n",
    "comm.to_excel('dataset_cleaned_compare.xlsx')"
   ]
  },
  {
   "cell_type": "markdown",
   "metadata": {},
   "source": [
    "##### 1.7 Vectorizer & TF-IDF\n",
    "Mengubah kata-kata menjadi vektor dan menghitung TF-IDF. Bentuk ini adalah bentuk yang dipahami oleh mesin"
   ]
  },
  {
   "cell_type": "code",
   "execution_count": 10,
   "metadata": {},
   "outputs": [
    {
     "name": "stdout",
     "output_type": "stream",
     "text": [
      "tfidf shape: (1000, 1328)\n",
      "  (0, 1134)\t0.4109490540770924\n",
      "  (0, 1023)\t0.2827316832698924\n",
      "  (0, 1005)\t0.30890333596737135\n",
      "  (0, 570)\t0.3714723815600821\n",
      "  (0, 273)\t0.35876373158418867\n",
      "  (0, 99)\t0.2264972489919038\n",
      "  (0, 66)\t0.4109490540770924\n",
      "  (0, 10)\t0.4109490540770924\n",
      "  (1, 1290)\t0.39459428657974693\n",
      "  (1, 1210)\t0.31878309162091994\n",
      "  (1, 1016)\t0.23357405613342863\n",
      "  (1, 776)\t0.3724209334868597\n",
      "  (1, 746)\t0.17957761483495113\n",
      "  (1, 447)\t0.39459428657974693\n",
      "  (1, 383)\t0.3345153360074462\n",
      "  (1, 284)\t0.19787088586206641\n",
      "  (1, 172)\t0.1852203704208481\n",
      "  (1, 87)\t0.3444858123182187\n",
      "  (1, 49)\t0.23965656540725186\n",
      "  (2, 1304)\t0.25181178796791664\n",
      "  (2, 1277)\t0.2722317662574082\n",
      "  (2, 1267)\t0.21361573425593766\n",
      "  (2, 1228)\t0.5444635325148164\n",
      "  (2, 1209)\t0.2006071496379635\n",
      "  (2, 1162)\t0.20289202634612213\n",
      "  :\t:\n",
      "  (996, 1025)\t0.5675640353171344\n",
      "  (996, 894)\t0.5146048687142613\n",
      "  (996, 146)\t0.33239857605655554\n",
      "  (996, 7)\t0.33239857605655554\n",
      "  (997, 1035)\t0.39040619517306197\n",
      "  (997, 802)\t0.411113423812812\n",
      "  (997, 740)\t0.33757541780349914\n",
      "  (997, 682)\t0.46948382296546703\n",
      "  (997, 651)\t0.3653352330046551\n",
      "  (997, 578)\t0.25754440443388193\n",
      "  (997, 531)\t0.26143613916457925\n",
      "  (997, 125)\t0.27576933333652875\n",
      "  (998, 1317)\t0.44445604743896316\n",
      "  (998, 1048)\t0.39917698145413266\n",
      "  (998, 906)\t0.4500408622003251\n",
      "  (998, 745)\t0.46935049894619757\n",
      "  (998, 181)\t0.46935049894619757\n",
      "  (999, 1222)\t0.15957702519463632\n",
      "  (999, 983)\t0.3358058300985094\n",
      "  (999, 621)\t0.5716722505956822\n",
      "  (999, 417)\t0.4063569067469585\n",
      "  (999, 408)\t0.4206121269803692\n",
      "  (999, 183)\t0.20613257069452995\n",
      "  (999, 106)\t0.21672299181354696\n",
      "  (999, 80)\t0.32165271100224285\n"
     ]
    }
   ],
   "source": [
    "vectorizer = CountVectorizer(decode_error='replace')\n",
    "transformer = TfidfTransformer()\n",
    "tfidf = transformer.fit_transform(vectorizer.fit_transform(comm['5_STEMMED'].apply(lambda x: ' '.join(x))))\n",
    "print(f\"tfidf shape: {tfidf.shape}\")\n",
    "print(tfidf)"
   ]
  },
  {
   "cell_type": "markdown",
   "metadata": {},
   "source": [
    "# 2. Tahap Training\n",
    "##### 2.1 Melakukan split train-test\n",
    "Split yang dilakukan sebesar 85% untuk train dan 15% untuk test"
   ]
  },
  {
   "cell_type": "code",
   "execution_count": 11,
   "metadata": {},
   "outputs": [],
   "source": [
    "x = tfidf\n",
    "y = comm['SENTIMEN']\n",
    "\n",
    "# split data into train and test\n",
    "x_train, x_test, y_train, y_test = train_test_split(x, y, test_size=0.15, random_state=MYRANDOMSTATE)"
   ]
  },
  {
   "cell_type": "markdown",
   "metadata": {},
   "source": [
    "##### 2.2 Melakukan training dengan terlebih dahulu melakukan fold cross validation\n",
    "Fold cross validation yang digunakan adalah 5 fold. Fold ini menjadikan data train dibagi menjadi data train dan validation dengan skema 80% train dan 20% validation untuk setiap fold.\n",
    "\n",
    "**Ilustrasi**\n",
    "\n",
    "<img src='https://drbeane.github.io/_pages/courses/dsci356/Images/22_kfold_cv.jpeg' width='700'>"
   ]
  },
  {
   "cell_type": "code",
   "execution_count": 12,
   "metadata": {},
   "outputs": [
    {
     "name": "stdout",
     "output_type": "stream",
     "text": [
      "--------------------\n",
      "Fold: 0\n",
      "Metric --> Accuracy: 0.9117647058823529, Precision: 0.9204441633284138, Recall: 0.9117647058823529, F1: 0.9104036278493276\n"
     ]
    },
    {
     "data": {
      "image/png": "[encoded data removed]",
      "text/plain": [
       "<Figure size 200x200 with 2 Axes>"
      ]
     },
     "metadata": {},
     "output_type": "display_data"
    },
    {
     "name": "stdout",
     "output_type": "stream",
     "text": [
      "--------------------\n",
      "Fold: 1\n",
      "Metric --> Accuracy: 0.9058823529411765, Precision: 0.9087254901960785, Recall: 0.9058823529411765, F1: 0.903650313880493\n"
     ]
    },
    {
     "data": {
      "image/png": "[encoded data removed]",
      "text/plain": [
       "<Figure size 200x200 with 2 Axes>"
      ]
     },
     "metadata": {},
     "output_type": "display_data"
    },
    {
     "name": "stdout",
     "output_type": "stream",
     "text": [
      "--------------------\n",
      "Fold: 2\n",
      "Metric --> Accuracy: 0.8705882352941177, Precision: 0.8702541025571933, Recall: 0.8705882352941177, F1: 0.8692546911237614\n"
     ]
    },
    {
     "data": {
      "image/png": "[encoded data removed]",
      "text/plain": [
       "<Figure size 200x200 with 2 Axes>"
      ]
     },
     "metadata": {},
     "output_type": "display_data"
    },
    {
     "name": "stdout",
     "output_type": "stream",
     "text": [
      "--------------------\n",
      "Fold: 3\n",
      "Metric --> Accuracy: 0.9117647058823529, Precision: 0.9160414165666265, Recall: 0.9117647058823529, F1: 0.9112928593897451\n"
     ]
    },
    {
     "data": {
      "image/png": "[encoded data removed]",
      "text/plain": [
       "<Figure size 200x200 with 2 Axes>"
      ]
     },
     "metadata": {},
     "output_type": "display_data"
    },
    {
     "name": "stdout",
     "output_type": "stream",
     "text": [
      "--------------------\n",
      "Fold: 4\n",
      "Metric --> Accuracy: 0.9117647058823529, Precision: 0.9148930481283423, Recall: 0.9117647058823529, F1: 0.9105685258783334\n"
     ]
    },
    {
     "data": {
      "image/png": "[encoded data removed]",
      "text/plain": [
       "<Figure size 200x200 with 2 Axes>"
      ]
     },
     "metadata": {},
     "output_type": "display_data"
    }
   ],
   "source": [
    "model = MultinomialNB()\n",
    "kf = KFold(n_splits=5, random_state=MYRANDOMSTATE, shuffle=True)\n",
    "for fold, (train_idx, val_idx) in enumerate(kf.split(x_train, y_train)):\n",
    "    print(\"--------------------\")\n",
    "    print(f\"Fold: {fold}\")\n",
    "    x_train, x_val = x[train_idx], x[val_idx]\n",
    "    y_train, y_val = y[train_idx], y[val_idx]\n",
    "    model.fit(x_train, y_train)\n",
    "    y_pred = model.predict(x_val)\n",
    "    acc = accuracy_score(y_val, y_pred)\n",
    "    prec = precision_score(y_val, y_pred, average='weighted')\n",
    "    rec = recall_score(y_val, y_pred, average='weighted')\n",
    "    f1 = f1_score(y_val, y_pred, average='weighted')\n",
    "    print(f\"Metric --> Accuracy: {acc}, Precision: {prec}, Recall: {rec}, F1: {f1}\")\n",
    "    \n",
    "    #plot confusion matrix\n",
    "    cm = confusion_matrix(y_val, y_pred)\n",
    "    plt.figure(figsize=(2,2))\n",
    "    sns.heatmap(cm, annot=True, fmt='d')\n",
    "    plt.xlabel('Predicted')\n",
    "    plt.ylabel('Truth')\n",
    "    plt.show()\n",
    "\n",
    "    # save model\n",
    "    savename = f\"model_fold{fold}.sav\"\n",
    "    savepath = f\"model/{savename}\"\n",
    "    pickle.dump(model, open(savepath, 'wb'))"
   ]
  },
  {
   "cell_type": "markdown",
   "metadata": {},
   "source": [
    "# 3. Tahap Testing\n",
    "##### 3.1 Melakukan testing dengan menggunakan data test"
   ]
  },
  {
   "cell_type": "code",
   "execution_count": 13,
   "metadata": {},
   "outputs": [
    {
     "name": "stdout",
     "output_type": "stream",
     "text": [
      "Hasil Testing --> Accuracy: 0.8866666666666667, Precision: 0.9039517345399698, Recall: 0.8866666666666667, F1: 0.8862884686688914\n"
     ]
    },
    {
     "data": {
      "image/png": "[encoded data removed]",
      "text/plain": [
       "<Figure size 200x200 with 2 Axes>"
      ]
     },
     "metadata": {},
     "output_type": "display_data"
    }
   ],
   "source": [
    "selected_model_name = \"model_fold0.sav\" # <-- Pilih model yang diinginkan\n",
    "selected_model_path = f\"model/{selected_model_name}\"\n",
    "selected_model = pickle.load(open(selected_model_path, 'rb'))\n",
    "\n",
    "# do the testing\n",
    "y_pred = selected_model.predict(x_test)\n",
    "acc = accuracy_score(y_test, y_pred)\n",
    "prec = precision_score(y_test, y_pred, average='weighted')\n",
    "rec = recall_score(y_test, y_pred, average='weighted')\n",
    "f1 = f1_score(y_test, y_pred, average='weighted')\n",
    "print(f\"Hasil Testing --> Accuracy: {acc}, Precision: {prec}, Recall: {rec}, F1: {f1}\")\n",
    "\n",
    "# draw confusion matrix\n",
    "cm = confusion_matrix(y_test, y_pred)\n",
    "plt.figure(figsize=(2,2))\n",
    "sns.heatmap(cm, annot=True, fmt='d')\n",
    "plt.xlabel('Predicted')\n",
    "plt.ylabel('Truth')\n",
    "plt.show()"
   ]
  },
  {
   "cell_type": "markdown",
   "metadata": {},
   "source": [
    "##### 3.2 Menguji inferensi dengan kata-kata sendiri"
   ]
  },
  {
   "cell_type": "code",
   "execution_count": 14,
   "metadata": {},
   "outputs": [],
   "source": [
    "def predict_sentiment(text):\n",
    "    text = textclean(text)\n",
    "    text = word_tokenize(text)\n",
    "    text = [kamus_perb_kata.get(i, i) for i in text]\n",
    "    text = [item for item in text if item not in stopwords]\n",
    "    text = [stemmer.stem(item) for item in text]\n",
    "    text = ' '.join(text)\n",
    "    text = vectorizer.transform([text])\n",
    "    text = transformer.transform(text)\n",
    "    text = selected_model.predict(text)\n",
    "\n",
    "    if text == 1:\n",
    "        print(\"Sentimen Positif\")\n",
    "    elif text == 0:\n",
    "        print(\"Sentimen Negatif\")"
   ]
  },
  {
   "cell_type": "code",
   "execution_count": 18,
   "metadata": {},
   "outputs": [
    {
     "name": "stdout",
     "output_type": "stream",
     "text": [
      "Sentimen Positif\n",
      "Sentimen Negatif\n",
      "Sentimen Negatif\n",
      "Sentimen Positif\n",
      "Sentimen Positif\n",
      "Sentimen Positif\n",
      "Sentimen Negatif\n"
     ]
    }
   ],
   "source": [
    "predict_sentiment(\"Keren banget, mantap\") # True Positive\n",
    "predict_sentiment(\"Ujung-ujungnya proyek lagi dan duit lagi\") # True Negative\n",
    "predict_sentiment(\"Program yang buat gw jd lama lulus dan nyusahin\") # True Negative\n",
    "predict_sentiment(\"Hadeh, Siap-siap lembur bagai kuda dengan tugas seabrek\") # False Positive\n",
    "predict_sentiment(\"Terobosan modern buat bangsa ini\") # True Positive\n",
    "predict_sentiment(\"Kerjaan yang bikin gw jadi stress\") # False Positive\n",
    "predict_sentiment(\"Program ini mengurangi mental-mental budak di indonesia\") # False Negative"
   ]
  }
 ],
 "metadata": {
  "kernelspec": {
   "display_name": "Python 3.7.13 ('py37_textmining')",
   "language": "python",
   "name": "python3"
  },
  "language_info": {
   "codemirror_mode": {
    "name": "ipython",
    "version": 3
   },
   "file_extension": ".py",
   "mimetype": "text/x-python",
   "name": "python",
   "nbconvert_exporter": "python",
   "pygments_lexer": "ipython3",
   "version": "3.7.13"
  },
  "orig_nbformat": 4,
  "vscode": {
   "interpreter": {
    "hash": "055add42eb899be09b5ce333eaeab972513676ccc1e00493a889b62e70238d8b"
   }
  }
 },
 "nbformat": 4,
 "nbformat_minor": 2
}
